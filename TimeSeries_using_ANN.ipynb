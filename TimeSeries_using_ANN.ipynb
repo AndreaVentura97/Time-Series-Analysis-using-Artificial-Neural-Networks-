{
 "cells": [
  {
   "cell_type": "code",
   "execution_count": 11,
   "metadata": {},
   "outputs": [
    {
     "name": "stdout",
     "output_type": "stream",
     "text": [
      "[[89.2 90.  75.  93. ]\n",
      " [86.  76.  81.  86. ]\n",
      " [82.  73.  79.  84. ]\n",
      " ...\n",
      " [73.  83.  80.  73. ]\n",
      " [74.  84.  80.  79. ]\n",
      " [78.  70.  82.  77. ]]\n",
      "[['Tuesday' '09:26']\n",
      " ['Tuesday' '10:01']\n",
      " ['Tuesday ' '10:30']\n",
      " ...\n",
      " ['Monday' '18:16']\n",
      " ['Monday' '19:02']\n",
      " ['Monday' '20:03']]\n"
     ]
    }
   ],
   "source": [
    "import numpy as np\n",
    "from numpy import array\n",
    "from numpy import argmax\n",
    "import pandas as pd\n",
    "from keras.utils import to_categorical\n",
    "# Importing the dataset\n",
    "dataset = pd.read_csv('C:\\\\Users\\\\mehta\\\\Desktop\\\\Data\\\\Time Series Data Current - Sheet1.csv')\n",
    "dataset3 = pd.read_csv('C:\\\\Users\\\\mehta\\\\Desktop\\\\Data\\\\Time Series Data Current - Sheet1.csv')\n",
    "dataset2 = pd.read_csv('C:\\\\Users\\\\mehta\\\\Desktop\\\\Data\\\\train.csv')\n",
    "X = dataset.iloc[:, 1:3].values\n",
    "\n",
    "y = dataset3.iloc[:, 3:7].values\n",
    "print(y)\n",
    "print(X)\n",
    "c = len(dataset.columns)\n",
    "r = len(dataset.index)"
   ]
  },
  {
   "cell_type": "code",
   "execution_count": 12,
   "metadata": {},
   "outputs": [],
   "source": [
    "i = 0\n",
    "j = 0\n",
    "u = 0\n",
    "\n",
    "#Preprocessing time and day\n",
    "\n",
    "days = X[:, 0]\n",
    "for i in range(len(days)):\n",
    "    if days[i] == 'Monday' or days[i] == 'Monday ':\n",
    "        days[i] = 'Monday'\n",
    "    elif days[i] == 'Tuesday' or days[i] == 'Tuesday ':\n",
    "        days[i] = 'Tuesday'\n",
    "    elif days[i] == 'Wednesday' or days[i] == 'Wednesday ':\n",
    "        days[i] = \"Wednesday\"\n",
    "    elif days[i] == 'Thursday' or days[i] == 'Thursday ' or days[i] == ' Thursday' or days[i] == 'Thrusday':\n",
    "        days[i] = \"Thursday\"\n",
    "    elif days[i] == 'Friday' or days[i] == 'Friday ':\n",
    "        days[i] = \"Friday\"\n",
    "    elif days[i] == 'Saturday' or days[i] == 'Saturday ':\n",
    "        days[i] = \"Saturday\"\n",
    "    elif days[i] == 'Sunday' or days[i] == 'Sunday ':\n",
    "        days[i] = \"Sunday\"\n",
    "\n",
    "\n",
    "time = X[:, 1]\n",
    "for i in range(len(days)):\n",
    "    time[i] = sum(x * int(t) for x, t in zip([3600, 60, 1], time[i].split(\":\")))\n"
   ]
  },
  {
   "cell_type": "code",
   "execution_count": 13,
   "metadata": {
    "collapsed": true
   },
  
   "source": [
    "\n",
    "\n",
    "X[:, 1] = time\n",
    "\n",
    "\n",
    "from sklearn.preprocessing import LabelEncoder, OneHotEncoder\n",
    "labelencoder_X_1 = LabelEncoder()\n",
    "X[:, 0] = labelencoder_X_1.fit_transform(days)\n",
    "onehotencoder = OneHotEncoder(categorical_features=[0])\n",
    "X = onehotencoder.fit_transform(X).toarray()"
   ]
  },
  {
   "cell_type": "code",
   "execution_count": 14,
   "metadata": {},
   "outputs": [],
   "source": [
    "# Splitting the dataset into the Training set and Test set\n",
    "from sklearn.model_selection import train_test_split\n",
    "X_train, X_test, y_train, y_test = train_test_split(X, y, test_size=0.2, random_state=0)"
   ]
  },
  {
   "cell_type": "code",
   "execution_count": 15,
   "metadata": {},
   "outputs": [],
   "source": [
    "# Feature Scaling\n",
    "from sklearn.preprocessing import StandardScaler\n",
    "sc = StandardScaler()\n",
    "X_train = sc.fit_transform(X_train)\n",
    "X_test = sc.transform(X_test)\n"
   ]
  },
  {
   "cell_type": "code",
   "execution_count": 16,
   "metadata": {
    "scrolled": true
   },
   "outputs": [
    {
     "name": "stdout",
     "output_type": "stream",
     "text": [
   
      "Epoch 1992/2000\n",
      "878/878 [==============================] - 0s 25us/step - loss: 396.3630 - acc: 0.6321\n",
      "Epoch 1993/2000\n",
      "878/878 [==============================] - 0s 27us/step - loss: 396.3629 - acc: 0.6230\n",
      "Epoch 1994/2000\n",
      "878/878 [==============================] - 0s 40us/step - loss: 396.3636 - acc: 0.6367\n",
      "Epoch 1995/2000\n",
      "878/878 [==============================] - 0s 30us/step - loss: 396.3626 - acc: 0.6367\n",
      "Epoch 1996/2000\n",
      "878/878 [==============================] - 0s 25us/step - loss: 396.3620 - acc: 0.6264\n",
      "Epoch 1997/2000\n",
      "878/878 [==============================] - 0s 26us/step - loss: 396.3615 - acc: 0.6390\n",
      "Epoch 1998/2000\n",
      "878/878 [==============================] - 0s 30us/step - loss: 396.3616 - acc: 0.6298\n",
      "Epoch 1999/2000\n",
      "878/878 [==============================] - 0s 25us/step - loss: 396.3645 - acc: 0.6412\n",
      "Epoch 2000/2000\n",
      "878/878 [==============================] - 0s 25us/step - loss: 396.3617 - acc: 0.6264\n"
     ]
    },
    {
     "data": {
      "text/plain": [
       "<keras.callbacks.History at 0x2701cb31e10>"
      ]
     },
     "execution_count": 16,
     "metadata": {},
     "output_type": "execute_result"
    }
   ],
   "source": [
    "from keras.models import Sequential\n",
    "from keras.layers import Dense\n",
    "\n",
    "# Initialising the ANN\n",
    "classifier = Sequential()\n",
    "\n",
    "# Adding the input layer and the first hidden layer\n",
    "classifier.add(Dense(units=6, kernel_initializer='uniform', activation='relu', input_dim=8))\n",
    "\n",
    "# Adding the second hidden layer\n",
    "classifier.add(Dense(units=6, kernel_initializer='uniform', activation='relu'))\n",
    "\n",
    "# Adding the output layer\n",
    "classifier.add(Dense(units=4, kernel_initializer='uniform', activation='softmax'))\n",
    "\n",
    "# Compiling the ANN\n",
    "classifier.compile(optimizer='adam', loss='categorical_crossentropy', metrics=['accuracy'])\n",
    "\n",
    "# Fitting the ANN to the Training set\n",
    "classifier.fit(X_train, y_train, batch_size=64,\n",
    "epochs=2000)"
   ]
  },
  {
   "cell_type": "code",
   "execution_count": 17,
   "metadata": {},
   "outputs": [
    {
     "name": "stdout",
     "output_type": "stream",
     "text": [
      ".\n",
      "<---------Enter the time you want to travel on Wednesday: ------------>\n",
      ".\n",
      "12:00\n",
      ".\n",
      "<--------------------->\n"
     ]
    }
   ],
   "source": [
    "y_pred = classifier.predict(X_test)\n",
    "\n",
    "y_2 = []\n",
    "for t in y_pred:\n",
    "    y_2.append(np.argmax(t))\n",
    "\n",
    "y_test_non_category = [np.argmin(t) for t in y_test]\n",
    "y_predict_non_category = [np.argmin(t) for t in y_pred]\n",
    "\n",
    "\n",
    "#Pred_time = \"12:00\"\n",
    "print(\".\")\n",
    "print(\"<---------Enter the time you want to travel on Wednesday: ------------>\")\n",
    "print(\".\")\n",
    "Pred_time = input(\"\")\n",
    "print(\".\")\n",
    "print(\"<--------------------->\")\n",
    "Pred_time = sum(x * int(t) for x, t in zip([3600, 60, 1], Pred_time.split(\":\")))\n",
    "\n",
    "new_prediction = classifier.predict(sc.transform(np.array([[0, 0, 1, 0, 0, 0, 0, Pred_time]])))\n",
    "\n",
    "y_pred_input = [np.argmin(new_prediction)]\n",
    "b = 0\n",
    "if y_pred_input == [0]:\n",
    "    b = 'R1: via Kurla'\n",
    "if y_pred_input == [1]:\n",
    "    b = \"R2: via Powai\"\n",
    "if y_pred_input == [2]:\n",
    "    b = 'Via Sion'\n",
    "if y_pred_input == [3]:\n",
    "    b = 'R3: via Powai via vile parle'"
   ]
  },
  {
   "cell_type": "code",
   "execution_count": 19,
   "metadata": {},
   "outputs": [
    {
     "name": "stdout",
     "output_type": "stream",
     "text": [
      "YOUR BEST ROUTE IS:\n"
     ]
    }
   ],
   "source": [
    "print(\"YOUR BEST ROUTE IS:\")\n"
   ]
  },
  {
   "cell_type": "code",
   "execution_count": 20,
   "metadata": {},
   "outputs": [
    {
     "name": "stdout",
     "output_type": "stream",
     "text": [
      "R1: via Kurla\n"
     ]
    }
   ],
   "source": [
    "print(b)\n"
   ]
  },
  {
   "cell_type": "code",
   "execution_count": null,
   "metadata": {},
   "outputs": [],
   "source": []
  }
 ],
 "metadata": {
  "kernelspec": {
   "display_name": "Python 3",
   "language": "python",
   "name": "python3"
  },
  "language_info": {
   "codemirror_mode": {
    "name": "ipython",
    "version": 3
   },
   "file_extension": ".py",
   "mimetype": "text/x-python",
   "name": "python",
   "nbconvert_exporter": "python",
   "pygments_lexer": "ipython3",
   "version": "3.7.3"
  }
 },
 "nbformat": 4,
 "nbformat_minor": 2
}
